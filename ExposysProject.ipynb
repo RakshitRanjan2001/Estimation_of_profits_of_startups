{
  "nbformat": 4,
  "nbformat_minor": 0,
  "metadata": {
    "colab": {
      "name": "ExposysProject.ipynb",
      "provenance": [],
      "collapsed_sections": []
    },
    "kernelspec": {
      "name": "python3",
      "display_name": "Python 3"
    },
    "language_info": {
      "name": "python"
    }
  },
  "cells": [
    {
      "cell_type": "markdown",
      "source": [
        "Importing Packages"
      ],
      "metadata": {
        "id": "jauaBjU_6V33"
      }
    },
    {
      "cell_type": "code",
      "source": [
        "import numpy as np\n",
        "import pandas as pd\n",
        "import sklearn as sk\n",
        "import matplotlib.pyplot as plt\n",
        "import os\n",
        "from sklearn import metrics\n",
        "from sklearn.model_selection import train_test_split\n",
        "from sklearn.neighbors import KNeighborsRegressor\n",
        "from sklearn.linear_model import LinearRegression\n",
        "from sklearn.linear_model import Ridge\n",
        "from sklearn.linear_model import Lasso\n",
        "from sklearn.linear_model import ElasticNet\n",
        "from sklearn.linear_model import RANSACRegressor\n",
        "from sklearn.linear_model import HuberRegressor"
      ],
      "metadata": {
        "id": "cjIvJsPwI4f6"
      },
      "execution_count": null,
      "outputs": []
    },
    {
      "cell_type": "markdown",
      "source": [
        "Importing the Dataset"
      ],
      "metadata": {
        "id": "iUw3xa4f6biU"
      }
    },
    {
      "cell_type": "code",
      "source": [
        "os.chdir('/content/drive/MyDrive/Python_Data/Exposys_Project')\n",
        "print(os.getcwd())\n",
        "c=pd.DataFrame(columns=['Name','RMSE','MSE','R2 Score','Max Error'])\n",
        "da=pd.read_csv('50_Startups.csv')\n",
        "da.describe()"
      ],
      "metadata": {
        "colab": {
          "base_uri": "https://localhost:8080/",
          "height": 318
        },
        "id": "Z_evvye_Fsxs",
        "outputId": "3af815b0-4e01-400a-f757-6522205f173b"
      },
      "execution_count": null,
      "outputs": [
        {
          "output_type": "stream",
          "name": "stdout",
          "text": [
            "/content/drive/MyDrive/Python_Data/Exposys_Project\n"
          ]
        },
        {
          "output_type": "execute_result",
          "data": {
            "text/plain": [
              "           R&D Spend  Administration  Marketing Spend         Profit\n",
              "count      50.000000       50.000000        50.000000      50.000000\n",
              "mean    73721.615600   121344.639600    211025.097800  112012.639200\n",
              "std     45902.256482    28017.802755    122290.310726   40306.180338\n",
              "min         0.000000    51283.140000         0.000000   14681.400000\n",
              "25%     39936.370000   103730.875000    129300.132500   90138.902500\n",
              "50%     73051.080000   122699.795000    212716.240000  107978.190000\n",
              "75%    101602.800000   144842.180000    299469.085000  139765.977500\n",
              "max    165349.200000   182645.560000    471784.100000  192261.830000"
            ],
            "text/html": [
              "\n",
              "  <div id=\"df-d7465d35-fded-465a-b08f-a174abcfb0c1\">\n",
              "    <div class=\"colab-df-container\">\n",
              "      <div>\n",
              "<style scoped>\n",
              "    .dataframe tbody tr th:only-of-type {\n",
              "        vertical-align: middle;\n",
              "    }\n",
              "\n",
              "    .dataframe tbody tr th {\n",
              "        vertical-align: top;\n",
              "    }\n",
              "\n",
              "    .dataframe thead th {\n",
              "        text-align: right;\n",
              "    }\n",
              "</style>\n",
              "<table border=\"1\" class=\"dataframe\">\n",
              "  <thead>\n",
              "    <tr style=\"text-align: right;\">\n",
              "      <th></th>\n",
              "      <th>R&amp;D Spend</th>\n",
              "      <th>Administration</th>\n",
              "      <th>Marketing Spend</th>\n",
              "      <th>Profit</th>\n",
              "    </tr>\n",
              "  </thead>\n",
              "  <tbody>\n",
              "    <tr>\n",
              "      <th>count</th>\n",
              "      <td>50.000000</td>\n",
              "      <td>50.000000</td>\n",
              "      <td>50.000000</td>\n",
              "      <td>50.000000</td>\n",
              "    </tr>\n",
              "    <tr>\n",
              "      <th>mean</th>\n",
              "      <td>73721.615600</td>\n",
              "      <td>121344.639600</td>\n",
              "      <td>211025.097800</td>\n",
              "      <td>112012.639200</td>\n",
              "    </tr>\n",
              "    <tr>\n",
              "      <th>std</th>\n",
              "      <td>45902.256482</td>\n",
              "      <td>28017.802755</td>\n",
              "      <td>122290.310726</td>\n",
              "      <td>40306.180338</td>\n",
              "    </tr>\n",
              "    <tr>\n",
              "      <th>min</th>\n",
              "      <td>0.000000</td>\n",
              "      <td>51283.140000</td>\n",
              "      <td>0.000000</td>\n",
              "      <td>14681.400000</td>\n",
              "    </tr>\n",
              "    <tr>\n",
              "      <th>25%</th>\n",
              "      <td>39936.370000</td>\n",
              "      <td>103730.875000</td>\n",
              "      <td>129300.132500</td>\n",
              "      <td>90138.902500</td>\n",
              "    </tr>\n",
              "    <tr>\n",
              "      <th>50%</th>\n",
              "      <td>73051.080000</td>\n",
              "      <td>122699.795000</td>\n",
              "      <td>212716.240000</td>\n",
              "      <td>107978.190000</td>\n",
              "    </tr>\n",
              "    <tr>\n",
              "      <th>75%</th>\n",
              "      <td>101602.800000</td>\n",
              "      <td>144842.180000</td>\n",
              "      <td>299469.085000</td>\n",
              "      <td>139765.977500</td>\n",
              "    </tr>\n",
              "    <tr>\n",
              "      <th>max</th>\n",
              "      <td>165349.200000</td>\n",
              "      <td>182645.560000</td>\n",
              "      <td>471784.100000</td>\n",
              "      <td>192261.830000</td>\n",
              "    </tr>\n",
              "  </tbody>\n",
              "</table>\n",
              "</div>\n",
              "      <button class=\"colab-df-convert\" onclick=\"convertToInteractive('df-d7465d35-fded-465a-b08f-a174abcfb0c1')\"\n",
              "              title=\"Convert this dataframe to an interactive table.\"\n",
              "              style=\"display:none;\">\n",
              "        \n",
              "  <svg xmlns=\"http://www.w3.org/2000/svg\" height=\"24px\"viewBox=\"0 0 24 24\"\n",
              "       width=\"24px\">\n",
              "    <path d=\"M0 0h24v24H0V0z\" fill=\"none\"/>\n",
              "    <path d=\"M18.56 5.44l.94 2.06.94-2.06 2.06-.94-2.06-.94-.94-2.06-.94 2.06-2.06.94zm-11 1L8.5 8.5l.94-2.06 2.06-.94-2.06-.94L8.5 2.5l-.94 2.06-2.06.94zm10 10l.94 2.06.94-2.06 2.06-.94-2.06-.94-.94-2.06-.94 2.06-2.06.94z\"/><path d=\"M17.41 7.96l-1.37-1.37c-.4-.4-.92-.59-1.43-.59-.52 0-1.04.2-1.43.59L10.3 9.45l-7.72 7.72c-.78.78-.78 2.05 0 2.83L4 21.41c.39.39.9.59 1.41.59.51 0 1.02-.2 1.41-.59l7.78-7.78 2.81-2.81c.8-.78.8-2.07 0-2.86zM5.41 20L4 18.59l7.72-7.72 1.47 1.35L5.41 20z\"/>\n",
              "  </svg>\n",
              "      </button>\n",
              "      \n",
              "  <style>\n",
              "    .colab-df-container {\n",
              "      display:flex;\n",
              "      flex-wrap:wrap;\n",
              "      gap: 12px;\n",
              "    }\n",
              "\n",
              "    .colab-df-convert {\n",
              "      background-color: #E8F0FE;\n",
              "      border: none;\n",
              "      border-radius: 50%;\n",
              "      cursor: pointer;\n",
              "      display: none;\n",
              "      fill: #1967D2;\n",
              "      height: 32px;\n",
              "      padding: 0 0 0 0;\n",
              "      width: 32px;\n",
              "    }\n",
              "\n",
              "    .colab-df-convert:hover {\n",
              "      background-color: #E2EBFA;\n",
              "      box-shadow: 0px 1px 2px rgba(60, 64, 67, 0.3), 0px 1px 3px 1px rgba(60, 64, 67, 0.15);\n",
              "      fill: #174EA6;\n",
              "    }\n",
              "\n",
              "    [theme=dark] .colab-df-convert {\n",
              "      background-color: #3B4455;\n",
              "      fill: #D2E3FC;\n",
              "    }\n",
              "\n",
              "    [theme=dark] .colab-df-convert:hover {\n",
              "      background-color: #434B5C;\n",
              "      box-shadow: 0px 1px 3px 1px rgba(0, 0, 0, 0.15);\n",
              "      filter: drop-shadow(0px 1px 2px rgba(0, 0, 0, 0.3));\n",
              "      fill: #FFFFFF;\n",
              "    }\n",
              "  </style>\n",
              "\n",
              "      <script>\n",
              "        const buttonEl =\n",
              "          document.querySelector('#df-d7465d35-fded-465a-b08f-a174abcfb0c1 button.colab-df-convert');\n",
              "        buttonEl.style.display =\n",
              "          google.colab.kernel.accessAllowed ? 'block' : 'none';\n",
              "\n",
              "        async function convertToInteractive(key) {\n",
              "          const element = document.querySelector('#df-d7465d35-fded-465a-b08f-a174abcfb0c1');\n",
              "          const dataTable =\n",
              "            await google.colab.kernel.invokeFunction('convertToInteractive',\n",
              "                                                     [key], {});\n",
              "          if (!dataTable) return;\n",
              "\n",
              "          const docLinkHtml = 'Like what you see? Visit the ' +\n",
              "            '<a target=\"_blank\" href=https://colab.research.google.com/notebooks/data_table.ipynb>data table notebook</a>'\n",
              "            + ' to learn more about interactive tables.';\n",
              "          element.innerHTML = '';\n",
              "          dataTable['output_type'] = 'display_data';\n",
              "          await google.colab.output.renderOutput(dataTable, element);\n",
              "          const docLink = document.createElement('div');\n",
              "          docLink.innerHTML = docLinkHtml;\n",
              "          element.appendChild(docLink);\n",
              "        }\n",
              "      </script>\n",
              "    </div>\n",
              "  </div>\n",
              "  "
            ]
          },
          "metadata": {},
          "execution_count": 2
        }
      ]
    },
    {
      "cell_type": "markdown",
      "source": [
        "Relation between individual parameter to the profit"
      ],
      "metadata": {
        "id": "XqcJadRL6jLg"
      }
    },
    {
      "cell_type": "code",
      "source": [
        "da.plot.scatter(x=\"Profit\", y=\"Marketing Spend\")\n",
        "plt.savefig('Marketing_Spend.jpg',bbox_inches='tight',orientation ='landscape')\n",
        "da.plot.scatter(x=\"Profit\", y=\"Administration\")\n",
        "plt.savefig('Administration_Spend.jpg',bbox_inches='tight',orientation ='landscape')\n",
        "da.plot.scatter(x=\"Profit\", y=\"R&D Spend\")\n",
        "plt.savefig('R&D_Spend.jpg',bbox_inches='tight',orientation ='landscape')"
      ],
      "metadata": {
        "colab": {
          "base_uri": "https://localhost:8080/",
          "height": 803
        },
        "id": "fTIwEW_XkZrY",
        "outputId": "7b32a05e-3167-482a-e673-d7479a70a674"
      },
      "execution_count": null,
      "outputs": [
        {
          "output_type": "display_data",
          "data": {
            "text/plain": [
              "<Figure size 432x288 with 1 Axes>"
            ],
            "image/png": "[encoded data removed]"
          },
          "metadata": {
            "needs_background": "light"
          }
        },
        {
          "output_type": "display_data",
          "data": {
            "text/plain": [
              "<Figure size 432x288 with 1 Axes>"
            ],
            "image/png": "[encoded data removed]"
          },
          "metadata": {
            "needs_background": "light"
          }
        },
        {
          "output_type": "display_data",
          "data": {
            "text/plain": [
              "<Figure size 432x288 with 1 Axes>"
            ],
            "image/png": "[encoded data removed]"
          },
          "metadata": {
            "needs_background": "light"
          }
        }
      ]
    },
    {
      "cell_type": "markdown",
      "source": [
        "Splitting the dataset into test and train"
      ],
      "metadata": {
        "id": "XGaCQjQU6wve"
      }
    },
    {
      "cell_type": "code",
      "source": [
        "X=da.drop(\"Profit\",axis=1)\n",
        "Y=da['Profit']\n",
        "X_Train, X_Test, Y_Train, Y_Test = train_test_split(X,Y,test_size=0.2,\n",
        "                                                    random_state=20)"
      ],
      "metadata": {
        "id": "aCOHeQKXQIet"
      },
      "execution_count": null,
      "outputs": []
    },
    {
      "cell_type": "markdown",
      "source": [
        "Fitting the train set to various models and test its usability"
      ],
      "metadata": {
        "id": "WK7IkvSe61i4"
      }
    },
    {
      "cell_type": "code",
      "source": [
        "modelKNNR = KNeighborsRegressor()\n",
        "modelKNNR.fit(X_Train, Y_Train)\n",
        "pred=modelKNNR.predict(X_Test)\n",
        "c=c.append({'Name':'KNeighborsRegressor',\n",
        "            'RMSE':round(metrics.mean_squared_error(Y_Test, pred, squared=False),2),\n",
        "            'MSE':round(metrics.mean_squared_error(Y_Test, pred),2),\n",
        "            'R2 Score':metrics.r2_score(Y_Test, pred),\n",
        "            'Max Error':round(metrics.max_error(Y_Test, pred),2)},ignore_index = True)"
      ],
      "metadata": {
        "id": "O0prgdgtPhq_"
      },
      "execution_count": null,
      "outputs": []
    },
    {
      "cell_type": "code",
      "source": [
        "modelLR = LinearRegression()\n",
        "modelLR.fit(X_Train, Y_Train)\n",
        "pred=modelLR.predict(X_Test)\n",
        "c=c.append({'Name':'LinearRegression',\n",
        "            'RMSE':round(metrics.mean_squared_error(Y_Test, pred, squared=False),2),\n",
        "            'MSE':round(metrics.mean_squared_error(Y_Test, pred),2),\n",
        "            'R2 Score':metrics.r2_score(Y_Test, pred),\n",
        "            'Max Error':round(metrics.max_error(Y_Test, pred),2)},ignore_index = True)"
      ],
      "metadata": {
        "id": "o0s6SZ8WbHST"
      },
      "execution_count": null,
      "outputs": []
    },
    {
      "cell_type": "code",
      "source": [
        "modelR = Ridge()\n",
        "modelR.fit(X_Train, Y_Train)\n",
        "pred=modelR.predict(X_Test)\n",
        "c=c.append({'Name':'Ridge',\n",
        "            'RMSE':round(metrics.mean_squared_error(Y_Test, pred, squared=False),2),\n",
        "            'MSE':round(metrics.mean_squared_error(Y_Test, pred),2),\n",
        "            'R2 Score':metrics.r2_score(Y_Test, pred),\n",
        "            'Max Error':round(metrics.max_error(Y_Test, pred),2)},ignore_index = True)"
      ],
      "metadata": {
        "id": "BLExAX9n18ao"
      },
      "execution_count": null,
      "outputs": []
    },
    {
      "cell_type": "code",
      "source": [
        "modelL = Lasso()\n",
        "modelL.fit(X_Train, Y_Train)\n",
        "pred=modelL.predict(X_Test)\n",
        "c=c.append({'Name':'Lasso', \n",
        "            'RMSE':round(metrics.mean_squared_error(Y_Test, pred, squared=False),2), \n",
        "            'MSE':round(metrics.mean_squared_error(Y_Test, pred),2), \n",
        "            'R2 Score':metrics.r2_score(Y_Test, pred), \n",
        "            'Max Error':round(metrics.max_error(Y_Test, pred),2)},ignore_index = True)"
      ],
      "metadata": {
        "id": "iiKkzhW3FuO0"
      },
      "execution_count": null,
      "outputs": []
    },
    {
      "cell_type": "code",
      "source": [
        "modelEN = ElasticNet()\n",
        "modelEN.fit(X_Train, Y_Train)\n",
        "pred=modelEN.predict(X_Test)\n",
        "c=c.append({'Name':'ElasticNet', \n",
        "            'RMSE':round(metrics.mean_squared_error(Y_Test, pred, squared=False),2), \n",
        "            'MSE':round(metrics.mean_squared_error(Y_Test, pred),2), \n",
        "            'R2 Score':metrics.r2_score(Y_Test, pred), \n",
        "            'Max Error':round(metrics.max_error(Y_Test, pred),2)},ignore_index = True)"
      ],
      "metadata": {
        "id": "KL0qOB-vH-qs"
      },
      "execution_count": null,
      "outputs": []
    },
    {
      "cell_type": "code",
      "source": [
        "modelRANSAC = RANSACRegressor()\n",
        "modelRANSAC.fit(X_Train, Y_Train)\n",
        "pred=modelRANSAC.predict(X_Test)\n",
        "c=c.append({'Name':'RANSACRegressor', \n",
        "            'RMSE':round(metrics.mean_squared_error(Y_Test, pred, squared=False),2), \n",
        "            'MSE':round(metrics.mean_squared_error(Y_Test, pred),2), \n",
        "            'R2 Score':metrics.r2_score(Y_Test, pred), \n",
        "            'Max Error':round(metrics.max_error(Y_Test, pred),2)},ignore_index = True)"
      ],
      "metadata": {
        "id": "cQNHj5f-IWOD"
      },
      "execution_count": null,
      "outputs": []
    },
    {
      "cell_type": "code",
      "source": [
        "modelHR = HuberRegressor()\n",
        "modelHR.fit(X_Train, Y_Train)\n",
        "pred=modelHR.predict(X_Test)\n",
        "c=c.append({'Name':'HuberRegressor', \n",
        "            'RMSE':round(metrics.mean_squared_error(Y_Test, pred, squared=False),2), \n",
        "            'MSE':round(metrics.mean_squared_error(Y_Test, pred),2), \n",
        "            'R2 Score':metrics.r2_score(Y_Test, pred), \n",
        "            'Max Error':round(metrics.max_error(Y_Test, pred),2)},ignore_index = True)"
      ],
      "metadata": {
        "id": "g8cMiYgaRs8A"
      },
      "execution_count": null,
      "outputs": []
    },
    {
      "cell_type": "markdown",
      "source": [
        "Comparisson of various models"
      ],
      "metadata": {
        "id": "RlGw5WKP7Mpi"
      }
    },
    {
      "cell_type": "code",
      "source": [
        "c"
      ],
      "metadata": {
        "id": "x4q4bS3Sn7PJ",
        "colab": {
          "base_uri": "https://localhost:8080/",
          "height": 269
        },
        "outputId": "39e67d13-c700-44de-9c96-1eb1a4c7d53c"
      },
      "execution_count": null,
      "outputs": [
        {
          "output_type": "execute_result",
          "data": {
            "text/plain": [
              "                  Name      RMSE           MSE  R2 Score  Max Error\n",
              "0  KNeighborsRegressor  12210.74  1.491021e+08  0.918830   21357.20\n",
              "1     LinearRegression   9742.36  9.491357e+07  0.948330   19195.73\n",
              "2                Ridge   9742.36  9.491357e+07  0.948330   19195.73\n",
              "3                Lasso   9742.36  9.491357e+07  0.948330   19195.73\n",
              "4           ElasticNet   9742.36  9.491357e+07  0.948330   19195.73\n",
              "5      RANSACRegressor   9164.30  8.398432e+07  0.954280   17208.92\n",
              "6       HuberRegressor  13635.49  1.859265e+08  0.898783   27011.31"
            ],
            "text/html": [
              "\n",
              "  <div id=\"df-e60f1a31-80d9-4c65-b682-2dc4a8b79235\">\n",
              "    <div class=\"colab-df-container\">\n",
              "      <div>\n",
              "<style scoped>\n",
              "    .dataframe tbody tr th:only-of-type {\n",
              "        vertical-align: middle;\n",
              "    }\n",
              "\n",
              "    .dataframe tbody tr th {\n",
              "        vertical-align: top;\n",
              "    }\n",
              "\n",
              "    .dataframe thead th {\n",
              "        text-align: right;\n",
              "    }\n",
              "</style>\n",
              "<table border=\"1\" class=\"dataframe\">\n",
              "  <thead>\n",
              "    <tr style=\"text-align: right;\">\n",
              "      <th></th>\n",
              "      <th>Name</th>\n",
              "      <th>RMSE</th>\n",
              "      <th>MSE</th>\n",
              "      <th>R2 Score</th>\n",
              "      <th>Max Error</th>\n",
              "    </tr>\n",
              "  </thead>\n",
              "  <tbody>\n",
              "    <tr>\n",
              "      <th>0</th>\n",
              "      <td>KNeighborsRegressor</td>\n",
              "      <td>12210.74</td>\n",
              "      <td>1.491021e+08</td>\n",
              "      <td>0.918830</td>\n",
              "      <td>21357.20</td>\n",
              "    </tr>\n",
              "    <tr>\n",
              "      <th>1</th>\n",
              "      <td>LinearRegression</td>\n",
              "      <td>9742.36</td>\n",
              "      <td>9.491357e+07</td>\n",
              "      <td>0.948330</td>\n",
              "      <td>19195.73</td>\n",
              "    </tr>\n",
              "    <tr>\n",
              "      <th>2</th>\n",
              "      <td>Ridge</td>\n",
              "      <td>9742.36</td>\n",
              "      <td>9.491357e+07</td>\n",
              "      <td>0.948330</td>\n",
              "      <td>19195.73</td>\n",
              "    </tr>\n",
              "    <tr>\n",
              "      <th>3</th>\n",
              "      <td>Lasso</td>\n",
              "      <td>9742.36</td>\n",
              "      <td>9.491357e+07</td>\n",
              "      <td>0.948330</td>\n",
              "      <td>19195.73</td>\n",
              "    </tr>\n",
              "    <tr>\n",
              "      <th>4</th>\n",
              "      <td>ElasticNet</td>\n",
              "      <td>9742.36</td>\n",
              "      <td>9.491357e+07</td>\n",
              "      <td>0.948330</td>\n",
              "      <td>19195.73</td>\n",
              "    </tr>\n",
              "    <tr>\n",
              "      <th>5</th>\n",
              "      <td>RANSACRegressor</td>\n",
              "      <td>9164.30</td>\n",
              "      <td>8.398432e+07</td>\n",
              "      <td>0.954280</td>\n",
              "      <td>17208.92</td>\n",
              "    </tr>\n",
              "    <tr>\n",
              "      <th>6</th>\n",
              "      <td>HuberRegressor</td>\n",
              "      <td>13635.49</td>\n",
              "      <td>1.859265e+08</td>\n",
              "      <td>0.898783</td>\n",
              "      <td>27011.31</td>\n",
              "    </tr>\n",
              "  </tbody>\n",
              "</table>\n",
              "</div>\n",
              "      <button class=\"colab-df-convert\" onclick=\"convertToInteractive('df-e60f1a31-80d9-4c65-b682-2dc4a8b79235')\"\n",
              "              title=\"Convert this dataframe to an interactive table.\"\n",
              "              style=\"display:none;\">\n",
              "        \n",
              "  <svg xmlns=\"http://www.w3.org/2000/svg\" height=\"24px\"viewBox=\"0 0 24 24\"\n",
              "       width=\"24px\">\n",
              "    <path d=\"M0 0h24v24H0V0z\" fill=\"none\"/>\n",
              "    <path d=\"M18.56 5.44l.94 2.06.94-2.06 2.06-.94-2.06-.94-.94-2.06-.94 2.06-2.06.94zm-11 1L8.5 8.5l.94-2.06 2.06-.94-2.06-.94L8.5 2.5l-.94 2.06-2.06.94zm10 10l.94 2.06.94-2.06 2.06-.94-2.06-.94-.94-2.06-.94 2.06-2.06.94z\"/><path d=\"M17.41 7.96l-1.37-1.37c-.4-.4-.92-.59-1.43-.59-.52 0-1.04.2-1.43.59L10.3 9.45l-7.72 7.72c-.78.78-.78 2.05 0 2.83L4 21.41c.39.39.9.59 1.41.59.51 0 1.02-.2 1.41-.59l7.78-7.78 2.81-2.81c.8-.78.8-2.07 0-2.86zM5.41 20L4 18.59l7.72-7.72 1.47 1.35L5.41 20z\"/>\n",
              "  </svg>\n",
              "      </button>\n",
              "      \n",
              "  <style>\n",
              "    .colab-df-container {\n",
              "      display:flex;\n",
              "      flex-wrap:wrap;\n",
              "      gap: 12px;\n",
              "    }\n",
              "\n",
              "    .colab-df-convert {\n",
              "      background-color: #E8F0FE;\n",
              "      border: none;\n",
              "      border-radius: 50%;\n",
              "      cursor: pointer;\n",
              "      display: none;\n",
              "      fill: #1967D2;\n",
              "      height: 32px;\n",
              "      padding: 0 0 0 0;\n",
              "      width: 32px;\n",
              "    }\n",
              "\n",
              "    .colab-df-convert:hover {\n",
              "      background-color: #E2EBFA;\n",
              "      box-shadow: 0px 1px 2px rgba(60, 64, 67, 0.3), 0px 1px 3px 1px rgba(60, 64, 67, 0.15);\n",
              "      fill: #174EA6;\n",
              "    }\n",
              "\n",
              "    [theme=dark] .colab-df-convert {\n",
              "      background-color: #3B4455;\n",
              "      fill: #D2E3FC;\n",
              "    }\n",
              "\n",
              "    [theme=dark] .colab-df-convert:hover {\n",
              "      background-color: #434B5C;\n",
              "      box-shadow: 0px 1px 3px 1px rgba(0, 0, 0, 0.15);\n",
              "      filter: drop-shadow(0px 1px 2px rgba(0, 0, 0, 0.3));\n",
              "      fill: #FFFFFF;\n",
              "    }\n",
              "  </style>\n",
              "\n",
              "      <script>\n",
              "        const buttonEl =\n",
              "          document.querySelector('#df-e60f1a31-80d9-4c65-b682-2dc4a8b79235 button.colab-df-convert');\n",
              "        buttonEl.style.display =\n",
              "          google.colab.kernel.accessAllowed ? 'block' : 'none';\n",
              "\n",
              "        async function convertToInteractive(key) {\n",
              "          const element = document.querySelector('#df-e60f1a31-80d9-4c65-b682-2dc4a8b79235');\n",
              "          const dataTable =\n",
              "            await google.colab.kernel.invokeFunction('convertToInteractive',\n",
              "                                                     [key], {});\n",
              "          if (!dataTable) return;\n",
              "\n",
              "          const docLinkHtml = 'Like what you see? Visit the ' +\n",
              "            '<a target=\"_blank\" href=https://colab.research.google.com/notebooks/data_table.ipynb>data table notebook</a>'\n",
              "            + ' to learn more about interactive tables.';\n",
              "          element.innerHTML = '';\n",
              "          dataTable['output_type'] = 'display_data';\n",
              "          await google.colab.output.renderOutput(dataTable, element);\n",
              "          const docLink = document.createElement('div');\n",
              "          docLink.innerHTML = docLinkHtml;\n",
              "          element.appendChild(docLink);\n",
              "        }\n",
              "      </script>\n",
              "    </div>\n",
              "  </div>\n",
              "  "
            ]
          },
          "metadata": {},
          "execution_count": 12
        }
      ]
    },
    {
      "cell_type": "code",
      "source": [
        "c.to_csv(\"Comparisons.csv\")\n",
        "c.plot.barh(x=\"Name\", y=\"RMSE\")\n",
        "plt.savefig('RMSE.jpg',bbox_inches='tight',orientation ='landscape')\n",
        "c.plot.barh(x=\"Name\", y=\"MSE\")\n",
        "plt.savefig('MSE.jpg',bbox_inches='tight',orientation ='landscape')\n",
        "c.plot.barh(x=\"Name\", y=\"R2 Score\")\n",
        "plt.savefig('R2_Score.jpg',bbox_inches='tight',orientation ='landscape')\n",
        "c.plot.barh(x=\"Name\", y=\"Max Error\")\n",
        "plt.savefig('Max_Error.jpg',bbox_inches='tight',orientation ='landscape')"
      ],
      "metadata": {
        "colab": {
          "base_uri": "https://localhost:8080/",
          "height": 1000
        },
        "id": "cTLd9AAVhRfs",
        "outputId": "f28f9dc8-f0f0-4eef-c429-9724e39c6f27"
      },
      "execution_count": null,
      "outputs": [
        {
          "output_type": "display_data",
          "data": {
            "text/plain": [
              "<Figure size 432x288 with 1 Axes>"
            ],
            "image/png": "[encoded data removed]"
          },
          "metadata": {
            "needs_background": "light"
          }
        },
        {
          "output_type": "display_data",
          "data": {
            "text/plain": [
              "<Figure size 432x288 with 1 Axes>"
            ],
            "image/png": "[encoded data removed]"
          },
          "metadata": {
            "needs_background": "light"
          }
        },
        {
          "output_type": "display_data",
          "data": {
            "text/plain": [
              "<Figure size 432x288 with 1 Axes>"
            ],
            "image/png": "[encoded data removed]"
          },
          "metadata": {
            "needs_background": "light"
          }
        },
        {
          "output_type": "display_data",
          "data": {
            "text/plain": [
              "<Figure size 432x288 with 1 Axes>"
            ],
            "image/png": "[encoded data removed]"
          },
          "metadata": {
            "needs_background": "light"
          }
        }
      ]
    },
    {
      "cell_type": "markdown",
      "source": [
        "For Realtime Use"
      ],
      "metadata": {
        "id": "AokCloE2T8E4"
      }
    },
    {
      "cell_type": "code",
      "source": [
        "RD=float(input('Enter R&D Spend: '))\n",
        "Admin=float(input('Enter Administration Spend: '))\n",
        "Market=float(input('Enter Marketing Spend: '))\n",
        "q=pd.DataFrame(columns=['R&D Spend', 'Administration', 'Marketing Spend'])\n",
        "q=q.append({'R&D Spend':RD,\n",
        "            'Administration':Admin,\n",
        "            'Marketing Spend':Market},ignore_index=True)\n",
        "pred=modelRANSAC.predict(q)\n",
        "print('For R&D Spend:'+str(RD)+\n",
        "      ' ,Administration Spend:'+str(Admin)+ \n",
        "      ' ,Marketing Spend:'+str(Market))\n",
        "print(\"The model predicts the profit to be: \"+str(round(pred[0],2)))"
      ],
      "metadata": {
        "id": "1JaNy-M0hjih",
        "colab": {
          "base_uri": "https://localhost:8080/"
        },
        "outputId": "ac45bc58-8557-48cb-b35f-08f64980ecd8"
      },
      "execution_count": null,
      "outputs": [
        {
          "output_type": "stream",
          "name": "stdout",
          "text": [
            "Enter R&D Spend: 50\n",
            "Enter Administration Spend: 50\n",
            "Enter Marketing Spend: 50\n",
            "For R&D Spend:50.0 ,Administration Spend:50.0 ,Marketing Spend:50.0\n",
            "The model predicts the profit to be: 60619.03\n"
          ]
        }
      ]
    },
    {
      "cell_type": "code",
      "source": [
        ""
      ],
      "metadata": {
        "id": "czDrE2zaY2-Z"
      },
      "execution_count": null,
      "outputs": []
    }
  ]
}